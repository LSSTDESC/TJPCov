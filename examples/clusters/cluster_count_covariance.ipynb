{
 "cells": [
  {
   "cell_type": "markdown",
   "metadata": {},
   "source": [
    "### Theoretical cluster count covariances using TJPCov.\n",
    "This notebook shows how to use TJPCov to calculate covariances, given a .sacc file.\n",
    "\n",
    "We will\n",
    "* Read in an appropriate yaml file\n",
    "* Instantiate a `CovarianceBuilder` for cluster counts\n",
    "* Calculate cluster count covariances and assemble the matrix\n",
    "* Display the covariance / correlation coefficient\n",
    "* Save the covariance back to .sacc"
   ]
  },
  {
   "cell_type": "code",
   "execution_count": null,
   "metadata": {},
   "outputs": [],
   "source": [
    "import os, sys\n",
    "import matplotlib.pyplot as plt\n",
    "import numpy as np\n",
    "import pyccl as ccl\n",
    "import sacc\n",
    "import pickle\n",
    "from tjpcov_new.covariance_io import CovarianceIO\n",
    "from tjpcov_new.covariance_cluster_counts import CovarianceClusterCounts"
   ]
  },
  {
   "cell_type": "markdown",
   "metadata": {},
   "source": [
    "The .yaml file contains the reference to the .sacc file - so specify which .sacc file you want to use there. You can also specify if you want to use MPI or not.\n",
    "\n",
    "This is a lengthy computation, so `mock_clusters_small.sacc` is small (only 2 richness, 2 redshift bins) to test calculations"
   ]
  },
  {
   "cell_type": "code",
   "execution_count": null,
   "metadata": {},
   "outputs": [],
   "source": [
    "input_yml = './tjpcov_conf_minimal_clusters.yaml'"
   ]
  },
  {
   "cell_type": "code",
   "execution_count": null,
   "metadata": {},
   "outputs": [],
   "source": [
    "nxn_cov = CovarianceClusterCounts(input_yml)\n",
    "# TJPCov covariance\n",
    "cov_nxn = nxn_cov.get_covariance()"
   ]
  },
  {
   "cell_type": "code",
   "execution_count": null,
   "metadata": {},
   "outputs": [],
   "source": [
    "# Uncomment to save the covariance array to pickle\n",
    "# fname = \"cov_nxn_large.pkl\"\n",
    "# with open(fname, 'wb') as ff:\n",
    "#         pickle.dump(cov_nxn, ff)"
   ]
  },
  {
   "cell_type": "markdown",
   "metadata": {},
   "source": [
    "That's it! Now you have a covariance matrix. \n",
    "\n",
    "Loading the pre-calculated covariance from pickle, we can now display it and save it to the .sacc file."
   ]
  },
  {
   "cell_type": "code",
   "execution_count": null,
   "metadata": {},
   "outputs": [],
   "source": [
    "with open(f\"cov_nxn_large.pkl\", 'rb') as cov_file:\n",
    "    cov_nxn = pickle.load(cov_file)\n",
    "correlation = np.corrcoef(cov_nxn)"
   ]
  },
  {
   "cell_type": "code",
   "execution_count": null,
   "metadata": {},
   "outputs": [],
   "source": [
    "plt.figure(figsize=(8,8))\n",
    "plt.imshow(cov_nxn, cmap='bwr')\n",
    "plt.colorbar()\n",
    "plt.title('Covariance')"
   ]
  },
  {
   "cell_type": "code",
   "execution_count": null,
   "metadata": {},
   "outputs": [],
   "source": [
    "plt.figure(figsize=(8,8))\n",
    "plt.imshow(correlation, cmap='bwr')\n",
    "plt.colorbar()\n",
    "plt.title('Correlation')"
   ]
  },
  {
   "cell_type": "markdown",
   "metadata": {},
   "source": [
    "Using CovarianceIO we can write the covariance into the sacc file.  Doing so below and reloading it to demonstrate its properly saving."
   ]
  },
  {
   "cell_type": "code",
   "execution_count": null,
   "metadata": {},
   "outputs": [],
   "source": [
    "cov_io = CovarianceIO(input_yml)\n",
    "cov_io.create_sacc_cov(cov_nxn, output='mock_clusters_with_cov.sacc')\n",
    "sacc_with_cov = sacc.Sacc.load_fits('mock_clusters_with_cov.sacc')"
   ]
  },
  {
   "cell_type": "code",
   "execution_count": null,
   "metadata": {},
   "outputs": [],
   "source": [
    "plt.figure(figsize=(4,4))\n",
    "plt.imshow(np.corrcoef(sacc_with_cov.covariance.covmat), cmap='bwr')"
   ]
  },
  {
   "cell_type": "code",
   "execution_count": null,
   "metadata": {},
   "outputs": [],
   "source": []
  }
 ],
 "metadata": {
  "kernelspec": {
   "display_name": "Python 3.8.10 ('base')",
   "language": "python",
   "name": "python3"
  },
  "language_info": {
   "codemirror_mode": {
    "name": "ipython",
    "version": 3
   },
   "file_extension": ".py",
   "mimetype": "text/x-python",
   "name": "python",
   "nbconvert_exporter": "python",
   "pygments_lexer": "ipython3",
   "version": "3.8.10"
  },
  "vscode": {
   "interpreter": {
    "hash": "afb1ca3bc18ae6171bd7b97235144abe7d96909f3d20e7ef21e9d03b321837d0"
   }
  }
 },
 "nbformat": 4,
 "nbformat_minor": 4
}
