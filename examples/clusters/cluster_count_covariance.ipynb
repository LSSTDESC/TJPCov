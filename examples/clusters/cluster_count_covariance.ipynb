{
 "cells": [
  {
   "cell_type": "markdown",
   "metadata": {},
   "source": [
    "Notebook demonstrating how cluster count covariances are calculated using TJPCov.\n",
    "* Reads mock sacc file with cluster tracers present\n",
    "* Calculates cluster count covariances\n",
    "* Adds cluster count covariances to sacc file"
   ]
  },
  {
   "cell_type": "code",
   "execution_count": 22,
   "metadata": {},
   "outputs": [
    {
     "ename": "ModuleNotFoundError",
     "evalue": "No module named 'tjpcov_new'",
     "output_type": "error",
     "traceback": [
      "\u001b[0;31m---------------------------------------------------------------------------\u001b[0m",
      "\u001b[0;31mModuleNotFoundError\u001b[0m                       Traceback (most recent call last)",
      "\u001b[0;32m/var/folders/rn/gdlml1w17ds9ks621h70g9hw0000gn/T/ipykernel_65462/965278284.py\u001b[0m in \u001b[0;36m<module>\u001b[0;34m\u001b[0m\n\u001b[1;32m      5\u001b[0m \u001b[0;32mimport\u001b[0m \u001b[0msacc\u001b[0m\u001b[0;34m\u001b[0m\u001b[0;34m\u001b[0m\u001b[0m\n\u001b[1;32m      6\u001b[0m \u001b[0;34m\u001b[0m\u001b[0m\n\u001b[0;32m----> 7\u001b[0;31m \u001b[0;32mfrom\u001b[0m \u001b[0mtjpcov_new\u001b[0m\u001b[0;34m.\u001b[0m\u001b[0mcovariance_clusters\u001b[0m \u001b[0;32mimport\u001b[0m \u001b[0mCovarianceClusterCounts\u001b[0m\u001b[0;34m\u001b[0m\u001b[0;34m\u001b[0m\u001b[0m\n\u001b[0m\u001b[1;32m      8\u001b[0m \u001b[0;34m\u001b[0m\u001b[0m\n\u001b[1;32m      9\u001b[0m \u001b[0minput_yml\u001b[0m \u001b[0;34m=\u001b[0m \u001b[0;34m'./tjpcov_conf_minimal_clusters.yaml'\u001b[0m\u001b[0;34m\u001b[0m\u001b[0;34m\u001b[0m\u001b[0m\n",
      "\u001b[0;31mModuleNotFoundError\u001b[0m: No module named 'tjpcov_new'"
     ]
    }
   ],
   "source": [
    "import os\n",
    "import matplotlib.pyplot as plt\n",
    "import numpy as np\n",
    "import pyccl as ccl\n",
    "import sacc\n",
    "\n",
    "from tjpcov_new.covariance_clusters import CovarianceClusterCounts\n",
    "\n",
    "input_yml = './tjpcov_conf_minimal_clusters.yaml'"
   ]
  },
  {
   "cell_type": "code",
   "execution_count": 20,
   "metadata": {},
   "outputs": [],
   "source": [
    "sacc_file = sacc.Sacc.load_fits(\"./mock_clusters.sacc\")\n",
    "min_mass = sacc_file.metadata['min_mass']\n",
    "N_z = sacc_file.metadata['nbins_cluster_redshift']\n",
    "N_lambda = sacc_file.metadata['nbins_cluster_richness']"
   ]
  },
  {
   "cell_type": "code",
   "execution_count": null,
   "metadata": {},
   "outputs": [],
   "source": [
    " # TJPCov covariance\n",
    "\n",
    "nxn_cov  = CovarianceClusterCounts(input_yml)\n",
    "cosmo = nxn_cov.get_cosmology()\n",
    "s = nxn_cov.io.get_sacc_file()\n",
    "# ell, _ = s.get_ell_cl('cl_00', 'DESgc__0', 'DESgc__0')\n",
    "\n",
    "cov_ssc = nxn_cov.get_covariance_block(include_b_modes=False)"
   ]
  }
 ],
 "metadata": {
  "kernelspec": {
   "display_name": "Python 3.8.10 ('base')",
   "language": "python",
   "name": "python3"
  },
  "language_info": {
   "codemirror_mode": {
    "name": "ipython",
    "version": 3
   },
   "file_extension": ".py",
   "mimetype": "text/x-python",
   "name": "python",
   "nbconvert_exporter": "python",
   "pygments_lexer": "ipython3",
   "version": "3.8.10"
  },
  "orig_nbformat": 4,
  "vscode": {
   "interpreter": {
    "hash": "afb1ca3bc18ae6171bd7b97235144abe7d96909f3d20e7ef21e9d03b321837d0"
   }
  }
 },
 "nbformat": 4,
 "nbformat_minor": 2
}
