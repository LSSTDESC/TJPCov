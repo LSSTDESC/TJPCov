{
 "cells": [
  {
   "cell_type": "markdown",
   "id": "62f26534",
   "metadata": {},
   "source": [
    "Example used in CMU DESC Fall 2023 Tutorial </br>\n",
    "Updates for ccl>=3.3.0"
   ]
  },
  {
   "cell_type": "code",
   "execution_count": 2,
   "id": "b790c689",
   "metadata": {},
   "outputs": [],
   "source": [
    "# Auxiliary import and Functions\n",
    "import numpy as np\n",
    "import matplotlib.pyplot as plt \n",
    "plt.rcParams.update({\"figure.dpi\":120})\n",
    "\n",
    "# you can edit with you own path if necessary:\n",
    "import sys\n",
    "sys.path.append(\"/home/faoli/programs/lsst/2023cmu/TJPCov/\")\n",
    "\n",
    "\n",
    "def cov2corr(cov):\n",
    "    \"\"\"\n",
    "    Convert a covariance matrix into a correlation matrix\n",
    "    input:\n",
    "        cov: numpy.array with dim:(N,N)\n",
    "    returns:\n",
    "        corr: numpy.array with dim:(N,N)\n",
    "    \"\"\"\n",
    "    sig = np.sqrt(cov.diagonal())\n",
    "    return cov/np.outer(sig, sig)"
   ]
  },
  {
   "cell_type": "markdown",
   "id": "f58a4288",
   "metadata": {},
   "source": [
    "## Input file:\n",
    "check the appendix of this notebook for the contents of .yaml file"
   ]
  },
  {
   "cell_type": "code",
   "execution_count": 3,
   "id": "bd3e961a",
   "metadata": {},
   "outputs": [
    {
     "name": "stdout",
     "output_type": "stream",
     "text": [
      "/home/faoli/programs/lsst/2023cmu/TJPCov\n"
     ]
    }
   ],
   "source": [
    "homepath = '/home/faoli/programs/lsst/2023cmu/TJPCov/' # Edit with your TJPCov path. e.g.: '/home/faoli/programs/lsst/TJPCov/'\n",
    "%cd {homepath}\n",
    "config_yml = f\"{homepath}/tests/data/conf_covariance_gaussian_fsky_fourier.yaml\""
   ]
  },
  {
   "cell_type": "markdown",
   "id": "a42becc6",
   "metadata": {},
   "source": [
    "## Using TJPCov Gaussian Fsky\n",
    "\n",
    "1. Import and create the object:"
   ]
  },
  {
   "cell_type": "code",
   "execution_count": 4,
   "id": "8d11a969",
   "metadata": {},
   "outputs": [
    {
     "name": "stdout",
     "output_type": "stream",
     "text": [
      "3.0.0\n"
     ]
    }
   ],
   "source": [
    "# This is a sanity check that we are using ccl 3.0.0\n",
    "# Not necessary for your regular run\n",
    "import pyccl; print(pyccl.__version__)"
   ]
  },
  {
   "cell_type": "code",
   "execution_count": 5,
   "id": "98ba1de3",
   "metadata": {},
   "outputs": [
    {
     "data": {
      "text/plain": [
       "{'tjpcov': {'sacc_file': 'examples/old_api/des_y1_3x2pt/generic_cl_des_y1_3x2pt_sacc_data.fits',\n",
       "  'cosmo': 'tests/data/cosmo_desy1.yaml',\n",
       "  'cov_type': ['FourierGaussianFsky'],\n",
       "  'Ngal_lens0': 26,\n",
       "  'Ngal_lens1': 26,\n",
       "  'Ngal_lens2': 26,\n",
       "  'Ngal_lens3': 26,\n",
       "  'Ngal_lens4': 26,\n",
       "  'Ngal_src0': 26,\n",
       "  'Ngal_src1': 26,\n",
       "  'Ngal_src2': 26,\n",
       "  'Ngal_src3': 26,\n",
       "  'sigma_e_src0': 0.26,\n",
       "  'sigma_e_src1': 0.26,\n",
       "  'sigma_e_src2': 0.26,\n",
       "  'sigma_e_src3': 0.26,\n",
       "  'bias_lens0': 1.5,\n",
       "  'bias_lens1': 1.5,\n",
       "  'bias_lens2': 1.5,\n",
       "  'bias_lens3': 1.5,\n",
       "  'bias_lens4': 1.5,\n",
       "  'IA': 0.5},\n",
       " 'GaussianFsky': {'fsky': 0.3}}"
      ]
     },
     "execution_count": 5,
     "metadata": {},
     "output_type": "execute_result"
    }
   ],
   "source": [
    "from tjpcov.covariance_calculator import CovarianceCalculator\n",
    "cc = CovarianceCalculator(config_yml)\n",
    "cc.config"
   ]
  },
  {
   "cell_type": "markdown",
   "id": "334466e1",
   "metadata": {},
   "source": [
    "2. Get your covariance (This should not take a long time)"
   ]
  },
  {
   "cell_type": "code",
   "execution_count": null,
   "id": "5943e105",
   "metadata": {
    "scrolled": true
   },
   "outputs": [
    {
     "name": "stdout",
     "output_type": "stream",
     "text": [
      "Computing independent covariance blocks\n",
      "Rank None: ('lens0', 'lens0'), ('lens0', 'lens0')\n"
     ]
    },
    {
     "name": "stderr",
     "output_type": "stream",
     "text": [
      "/home/faoli/anaconda3/lib/python3.8/site-packages/sacc/sacc.py:378: UserWarning: Empty index selected - maybe you should check the tracer order?\n",
      "  warnings.warn(\"Empty index selected - maybe you \"\n",
      "/home/faoli/programs/lsst/2023cmu/TJPCov/tjpcov/covariance_builder.py:887: UserWarning: Missing n_ell_coupled info for some tracers in the sacc file. You will have to pass it withthe cache\n",
      "  warnings.warn(\n"
     ]
    },
    {
     "name": "stdout",
     "output_type": "stream",
     "text": [
      "Rank None: ('lens0', 'lens0'), ('lens1', 'lens1')\n",
      "Rank None: ('lens0', 'lens0'), ('lens2', 'lens2')\n",
      "Rank None: ('lens0', 'lens0'), ('lens3', 'lens3')\n",
      "Rank None: ('lens0', 'lens0'), ('lens4', 'lens4')\n",
      "Rank None: ('lens0', 'lens0'), ('lens0', 'src0')\n",
      "Rank None: ('lens0', 'lens0'), ('lens0', 'src1')\n",
      "Rank None: ('lens0', 'lens0'), ('lens0', 'src2')\n",
      "Rank None: ('lens0', 'lens0'), ('lens0', 'src3')\n",
      "Rank None: ('lens0', 'lens0'), ('lens1', 'src0')\n",
      "Rank None: ('lens0', 'lens0'), ('lens1', 'src1')\n",
      "Rank None: ('lens0', 'lens0'), ('lens1', 'src2')\n",
      "Rank None: ('lens0', 'lens0'), ('lens1', 'src3')\n",
      "Rank None: ('lens0', 'lens0'), ('lens2', 'src0')\n",
      "Rank None: ('lens0', 'lens0'), ('lens2', 'src1')\n",
      "Rank None: ('lens0', 'lens0'), ('lens2', 'src2')\n",
      "Rank None: ('lens0', 'lens0'), ('lens2', 'src3')\n",
      "Rank None: ('lens0', 'lens0'), ('lens3', 'src0')\n",
      "Rank None: ('lens0', 'lens0'), ('lens3', 'src1')\n",
      "Rank None: ('lens0', 'lens0'), ('lens3', 'src2')\n",
      "Rank None: ('lens0', 'lens0'), ('lens3', 'src3')\n",
      "Rank None: ('lens0', 'lens0'), ('lens4', 'src0')\n",
      "Rank None: ('lens0', 'lens0'), ('lens4', 'src1')\n",
      "Rank None: ('lens0', 'lens0'), ('lens4', 'src2')\n",
      "Rank None: ('lens0', 'lens0'), ('lens4', 'src3')\n",
      "Rank None: ('lens0', 'lens0'), ('src0', 'src0')\n",
      "Rank None: ('lens0', 'lens0'), ('src0', 'src1')\n",
      "Rank None: ('lens0', 'lens0'), ('src0', 'src2')\n",
      "Rank None: ('lens0', 'lens0'), ('src0', 'src3')\n",
      "Rank None: ('lens0', 'lens0'), ('src1', 'src1')\n",
      "Rank None: ('lens0', 'lens0'), ('src1', 'src2')\n",
      "Rank None: ('lens0', 'lens0'), ('src1', 'src3')\n",
      "Rank None: ('lens0', 'lens0'), ('src2', 'src2')\n",
      "Rank None: ('lens0', 'lens0'), ('src2', 'src3')\n",
      "Rank None: ('lens0', 'lens0'), ('src3', 'src3')\n",
      "Rank None: ('lens1', 'lens1'), ('lens1', 'lens1')\n",
      "Rank None: ('lens1', 'lens1'), ('lens2', 'lens2')\n",
      "Rank None: ('lens1', 'lens1'), ('lens3', 'lens3')\n",
      "Rank None: ('lens1', 'lens1'), ('lens4', 'lens4')\n",
      "Rank None: ('lens1', 'lens1'), ('lens0', 'src0')\n",
      "Rank None: ('lens1', 'lens1'), ('lens0', 'src1')\n",
      "Rank None: ('lens1', 'lens1'), ('lens0', 'src2')\n",
      "Rank None: ('lens1', 'lens1'), ('lens0', 'src3')\n",
      "Rank None: ('lens1', 'lens1'), ('lens1', 'src0')\n",
      "Rank None: ('lens1', 'lens1'), ('lens1', 'src1')\n",
      "Rank None: ('lens1', 'lens1'), ('lens1', 'src2')\n",
      "Rank None: ('lens1', 'lens1'), ('lens1', 'src3')\n",
      "Rank None: ('lens1', 'lens1'), ('lens2', 'src0')\n",
      "Rank None: ('lens1', 'lens1'), ('lens2', 'src1')\n",
      "Rank None: ('lens1', 'lens1'), ('lens2', 'src2')\n",
      "Rank None: ('lens1', 'lens1'), ('lens2', 'src3')\n",
      "Rank None: ('lens1', 'lens1'), ('lens3', 'src0')\n",
      "Rank None: ('lens1', 'lens1'), ('lens3', 'src1')\n",
      "Rank None: ('lens1', 'lens1'), ('lens3', 'src2')\n",
      "Rank None: ('lens1', 'lens1'), ('lens3', 'src3')\n",
      "Rank None: ('lens1', 'lens1'), ('lens4', 'src0')\n",
      "Rank None: ('lens1', 'lens1'), ('lens4', 'src1')\n",
      "Rank None: ('lens1', 'lens1'), ('lens4', 'src2')\n",
      "Rank None: ('lens1', 'lens1'), ('lens4', 'src3')\n",
      "Rank None: ('lens1', 'lens1'), ('src0', 'src0')\n",
      "Rank None: ('lens1', 'lens1'), ('src0', 'src1')\n",
      "Rank None: ('lens1', 'lens1'), ('src0', 'src2')\n",
      "Rank None: ('lens1', 'lens1'), ('src0', 'src3')\n",
      "Rank None: ('lens1', 'lens1'), ('src1', 'src1')\n",
      "Rank None: ('lens1', 'lens1'), ('src1', 'src2')\n",
      "Rank None: ('lens1', 'lens1'), ('src1', 'src3')\n",
      "Rank None: ('lens1', 'lens1'), ('src2', 'src2')\n",
      "Rank None: ('lens1', 'lens1'), ('src2', 'src3')\n",
      "Rank None: ('lens1', 'lens1'), ('src3', 'src3')\n",
      "Rank None: ('lens2', 'lens2'), ('lens2', 'lens2')\n",
      "Rank None: ('lens2', 'lens2'), ('lens3', 'lens3')\n",
      "Rank None: ('lens2', 'lens2'), ('lens4', 'lens4')\n",
      "Rank None: ('lens2', 'lens2'), ('lens0', 'src0')\n",
      "Rank None: ('lens2', 'lens2'), ('lens0', 'src1')\n",
      "Rank None: ('lens2', 'lens2'), ('lens0', 'src2')\n",
      "Rank None: ('lens2', 'lens2'), ('lens0', 'src3')\n",
      "Rank None: ('lens2', 'lens2'), ('lens1', 'src0')\n",
      "Rank None: ('lens2', 'lens2'), ('lens1', 'src1')\n",
      "Rank None: ('lens2', 'lens2'), ('lens1', 'src2')\n",
      "Rank None: ('lens2', 'lens2'), ('lens1', 'src3')\n",
      "Rank None: ('lens2', 'lens2'), ('lens2', 'src0')\n",
      "Rank None: ('lens2', 'lens2'), ('lens2', 'src1')\n",
      "Rank None: ('lens2', 'lens2'), ('lens2', 'src2')\n",
      "Rank None: ('lens2', 'lens2'), ('lens2', 'src3')\n",
      "Rank None: ('lens2', 'lens2'), ('lens3', 'src0')\n",
      "Rank None: ('lens2', 'lens2'), ('lens3', 'src1')\n",
      "Rank None: ('lens2', 'lens2'), ('lens3', 'src2')\n",
      "Rank None: ('lens2', 'lens2'), ('lens3', 'src3')\n",
      "Rank None: ('lens2', 'lens2'), ('lens4', 'src0')\n",
      "Rank None: ('lens2', 'lens2'), ('lens4', 'src1')\n",
      "Rank None: ('lens2', 'lens2'), ('lens4', 'src2')\n",
      "Rank None: ('lens2', 'lens2'), ('lens4', 'src3')\n",
      "Rank None: ('lens2', 'lens2'), ('src0', 'src0')\n",
      "Rank None: ('lens2', 'lens2'), ('src0', 'src1')\n",
      "Rank None: ('lens2', 'lens2'), ('src0', 'src2')\n",
      "Rank None: ('lens2', 'lens2'), ('src0', 'src3')\n",
      "Rank None: ('lens2', 'lens2'), ('src1', 'src1')\n",
      "Rank None: ('lens2', 'lens2'), ('src1', 'src2')\n",
      "Rank None: ('lens2', 'lens2'), ('src1', 'src3')\n",
      "Rank None: ('lens2', 'lens2'), ('src2', 'src2')\n",
      "Rank None: ('lens2', 'lens2'), ('src2', 'src3')\n",
      "Rank None: ('lens2', 'lens2'), ('src3', 'src3')\n",
      "Rank None: ('lens3', 'lens3'), ('lens3', 'lens3')\n",
      "Rank None: ('lens3', 'lens3'), ('lens4', 'lens4')\n",
      "Rank None: ('lens3', 'lens3'), ('lens0', 'src0')\n",
      "Rank None: ('lens3', 'lens3'), ('lens0', 'src1')\n",
      "Rank None: ('lens3', 'lens3'), ('lens0', 'src2')\n",
      "Rank None: ('lens3', 'lens3'), ('lens0', 'src3')\n",
      "Rank None: ('lens3', 'lens3'), ('lens1', 'src0')\n",
      "Rank None: ('lens3', 'lens3'), ('lens1', 'src1')\n",
      "Rank None: ('lens3', 'lens3'), ('lens1', 'src2')\n",
      "Rank None: ('lens3', 'lens3'), ('lens1', 'src3')\n",
      "Rank None: ('lens3', 'lens3'), ('lens2', 'src0')\n",
      "Rank None: ('lens3', 'lens3'), ('lens2', 'src1')\n",
      "Rank None: ('lens3', 'lens3'), ('lens2', 'src2')\n",
      "Rank None: ('lens3', 'lens3'), ('lens2', 'src3')\n",
      "Rank None: ('lens3', 'lens3'), ('lens3', 'src0')\n",
      "Rank None: ('lens3', 'lens3'), ('lens3', 'src1')\n",
      "Rank None: ('lens3', 'lens3'), ('lens3', 'src2')\n",
      "Rank None: ('lens3', 'lens3'), ('lens3', 'src3')\n",
      "Rank None: ('lens3', 'lens3'), ('lens4', 'src0')\n",
      "Rank None: ('lens3', 'lens3'), ('lens4', 'src1')\n",
      "Rank None: ('lens3', 'lens3'), ('lens4', 'src2')\n",
      "Rank None: ('lens3', 'lens3'), ('lens4', 'src3')\n",
      "Rank None: ('lens3', 'lens3'), ('src0', 'src0')\n",
      "Rank None: ('lens3', 'lens3'), ('src0', 'src1')\n",
      "Rank None: ('lens3', 'lens3'), ('src0', 'src2')\n",
      "Rank None: ('lens3', 'lens3'), ('src0', 'src3')\n",
      "Rank None: ('lens3', 'lens3'), ('src1', 'src1')\n",
      "Rank None: ('lens3', 'lens3'), ('src1', 'src2')\n",
      "Rank None: ('lens3', 'lens3'), ('src1', 'src3')\n",
      "Rank None: ('lens3', 'lens3'), ('src2', 'src2')\n",
      "Rank None: ('lens3', 'lens3'), ('src2', 'src3')\n",
      "Rank None: ('lens3', 'lens3'), ('src3', 'src3')\n",
      "Rank None: ('lens4', 'lens4'), ('lens4', 'lens4')\n",
      "Rank None: ('lens4', 'lens4'), ('lens0', 'src0')\n",
      "Rank None: ('lens4', 'lens4'), ('lens0', 'src1')\n",
      "Rank None: ('lens4', 'lens4'), ('lens0', 'src2')\n",
      "Rank None: ('lens4', 'lens4'), ('lens0', 'src3')\n",
      "Rank None: ('lens4', 'lens4'), ('lens1', 'src0')\n",
      "Rank None: ('lens4', 'lens4'), ('lens1', 'src1')\n",
      "Rank None: ('lens4', 'lens4'), ('lens1', 'src2')\n",
      "Rank None: ('lens4', 'lens4'), ('lens1', 'src3')\n",
      "Rank None: ('lens4', 'lens4'), ('lens2', 'src0')\n",
      "Rank None: ('lens4', 'lens4'), ('lens2', 'src1')\n",
      "Rank None: ('lens4', 'lens4'), ('lens2', 'src2')\n",
      "Rank None: ('lens4', 'lens4'), ('lens2', 'src3')\n",
      "Rank None: ('lens4', 'lens4'), ('lens3', 'src0')\n",
      "Rank None: ('lens4', 'lens4'), ('lens3', 'src1')\n",
      "Rank None: ('lens4', 'lens4'), ('lens3', 'src2')\n",
      "Rank None: ('lens4', 'lens4'), ('lens3', 'src3')\n",
      "Rank None: ('lens4', 'lens4'), ('lens4', 'src0')\n",
      "Rank None: ('lens4', 'lens4'), ('lens4', 'src1')\n",
      "Rank None: ('lens4', 'lens4'), ('lens4', 'src2')\n",
      "Rank None: ('lens4', 'lens4'), ('lens4', 'src3')\n",
      "Rank None: ('lens4', 'lens4'), ('src0', 'src0')\n",
      "Rank None: ('lens4', 'lens4'), ('src0', 'src1')\n",
      "Rank None: ('lens4', 'lens4'), ('src0', 'src2')\n",
      "Rank None: ('lens4', 'lens4'), ('src0', 'src3')\n",
      "Rank None: ('lens4', 'lens4'), ('src1', 'src1')\n",
      "Rank None: ('lens4', 'lens4'), ('src1', 'src2')\n",
      "Rank None: ('lens4', 'lens4'), ('src1', 'src3')\n",
      "Rank None: ('lens4', 'lens4'), ('src2', 'src2')\n",
      "Rank None: ('lens4', 'lens4'), ('src2', 'src3')\n",
      "Rank None: ('lens4', 'lens4'), ('src3', 'src3')\n",
      "Rank None: ('lens0', 'src0'), ('lens0', 'src0')\n",
      "Rank None: ('lens0', 'src0'), ('lens0', 'src1')\n",
      "Rank None: ('lens0', 'src0'), ('lens0', 'src2')\n",
      "Rank None: ('lens0', 'src0'), ('lens0', 'src3')\n",
      "Rank None: ('lens0', 'src0'), ('lens1', 'src0')\n"
     ]
    },
    {
     "name": "stdout",
     "output_type": "stream",
     "text": [
      "Rank None: ('lens0', 'src0'), ('lens1', 'src1')\n",
      "Rank None: ('lens0', 'src0'), ('lens1', 'src2')\n",
      "Rank None: ('lens0', 'src0'), ('lens1', 'src3')\n",
      "Rank None: ('lens0', 'src0'), ('lens2', 'src0')\n",
      "Rank None: ('lens0', 'src0'), ('lens2', 'src1')\n",
      "Rank None: ('lens0', 'src0'), ('lens2', 'src2')\n",
      "Rank None: ('lens0', 'src0'), ('lens2', 'src3')\n",
      "Rank None: ('lens0', 'src0'), ('lens3', 'src0')\n",
      "Rank None: ('lens0', 'src0'), ('lens3', 'src1')\n",
      "Rank None: ('lens0', 'src0'), ('lens3', 'src2')\n",
      "Rank None: ('lens0', 'src0'), ('lens3', 'src3')\n",
      "Rank None: ('lens0', 'src0'), ('lens4', 'src0')\n",
      "Rank None: ('lens0', 'src0'), ('lens4', 'src1')\n",
      "Rank None: ('lens0', 'src0'), ('lens4', 'src2')\n",
      "Rank None: ('lens0', 'src0'), ('lens4', 'src3')\n",
      "Rank None: ('lens0', 'src0'), ('src0', 'src0')\n",
      "Rank None: ('lens0', 'src0'), ('src0', 'src1')\n",
      "Rank None: ('lens0', 'src0'), ('src0', 'src2')\n",
      "Rank None: ('lens0', 'src0'), ('src0', 'src3')\n",
      "Rank None: ('lens0', 'src0'), ('src1', 'src1')\n",
      "Rank None: ('lens0', 'src0'), ('src1', 'src2')\n",
      "Rank None: ('lens0', 'src0'), ('src1', 'src3')\n",
      "Rank None: ('lens0', 'src0'), ('src2', 'src2')\n",
      "Rank None: ('lens0', 'src0'), ('src2', 'src3')\n",
      "Rank None: ('lens0', 'src0'), ('src3', 'src3')\n",
      "Rank None: ('lens0', 'src1'), ('lens0', 'src1')\n",
      "Rank None: ('lens0', 'src1'), ('lens0', 'src2')\n",
      "Rank None: ('lens0', 'src1'), ('lens0', 'src3')\n",
      "Rank None: ('lens0', 'src1'), ('lens1', 'src0')\n",
      "Rank None: ('lens0', 'src1'), ('lens1', 'src1')\n",
      "Rank None: ('lens0', 'src1'), ('lens1', 'src2')\n",
      "Rank None: ('lens0', 'src1'), ('lens1', 'src3')\n",
      "Rank None: ('lens0', 'src1'), ('lens2', 'src0')\n",
      "Rank None: ('lens0', 'src1'), ('lens2', 'src1')\n",
      "Rank None: ('lens0', 'src1'), ('lens2', 'src2')\n",
      "Rank None: ('lens0', 'src1'), ('lens2', 'src3')\n",
      "Rank None: ('lens0', 'src1'), ('lens3', 'src0')\n",
      "Rank None: ('lens0', 'src1'), ('lens3', 'src1')\n",
      "Rank None: ('lens0', 'src1'), ('lens3', 'src2')\n",
      "Rank None: ('lens0', 'src1'), ('lens3', 'src3')\n",
      "Rank None: ('lens0', 'src1'), ('lens4', 'src0')\n",
      "Rank None: ('lens0', 'src1'), ('lens4', 'src1')\n",
      "Rank None: ('lens0', 'src1'), ('lens4', 'src2')\n",
      "Rank None: ('lens0', 'src1'), ('lens4', 'src3')\n",
      "Rank None: ('lens0', 'src1'), ('src0', 'src0')\n",
      "Rank None: ('lens0', 'src1'), ('src0', 'src1')\n",
      "Rank None: ('lens0', 'src1'), ('src0', 'src2')\n"
     ]
    }
   ],
   "source": [
    "%%time \n",
    "cov = cc.get_covariance()"
   ]
  },
  {
   "cell_type": "code",
   "execution_count": null,
   "id": "680a4a1e",
   "metadata": {},
   "outputs": [],
   "source": [
    "corr = cov2corr(cov)\n",
    "plt.imshow(corr, origin='lower', vmin=-1, vmax=1, cmap='bwr')\n",
    "plt.colorbar()"
   ]
  },
  {
   "cell_type": "markdown",
   "id": "c29d6e15",
   "metadata": {},
   "source": [
    "## Appendix A: config file content\n",
    "Important fields in the configuration file: "
   ]
  },
  {
   "cell_type": "markdown",
   "id": "1ea848eb",
   "metadata": {},
   "source": [
    "```yaml\n",
    "tjpcov:\n",
    "\n",
    "  ### This is the place to store your n(z) \n",
    "  sacc_file: examples/old_api/des_y1_3x2pt/generic_cl_des_y1_3x2pt_sacc_data.fits\n",
    "    \n",
    "  ### The **cosmology** is from the ccl cosmo object!\n",
    "  cosmo: tests/data/cosmo_desy1.yaml\n",
    "  \n",
    "  # Now, tell TJPCov which kind of covariance you want.\n",
    "  #   The logic of name is [Space_kind][CovarianceTerm][Options] (case sensitive!) \n",
    "  #   as in the example below\n",
    "  cov_type: [FourierGaussianFsky]\n",
    "\n",
    "  ### Survey params:\n",
    "  ### a. 5 lens bins ( in arcmin^2)\n",
    "  {% for i in range(5) %} \n",
    "  Ngal_lens{{ i }}: {{26}} # arc_min^2\n",
    "  {% endfor %}\n",
    "\n",
    "  ### b. 4 source bins\n",
    "  {% for i in range(4) %} \n",
    "  Ngal_src{{ i }}: {{26}} # arc_min^2\n",
    "  {% endfor %}\n",
    "\n",
    "  ### constant bin sigma_e\n",
    "  {% for i in range(4) %} \n",
    "  sigma_e_src{{ i }}: {{ 0.26 }}\n",
    "  {% endfor %}\n",
    "\n",
    "  ### linear bias for lenses constant for redshift bin (example notebook)\n",
    "  {% for i, val in [(0, 1.5), (1, 1.5), (2, 1.5), (3, 1.5), (4, 1.5)] %}\n",
    "  bias_lens{{ i }}: {{ val }}\n",
    "  {% endfor %}\n",
    "\n",
    "  IA: 0.5\n",
    "\n",
    "### This is the fraction of sky in your footprint (default=1)\n",
    "#       This is ignored by NaMaster case\n",
    "GaussianFsky:\n",
    "  fsky: 0.3\n",
    "```"
   ]
  },
  {
   "cell_type": "markdown",
   "id": "19726d6b",
   "metadata": {},
   "source": [
    "## Appendix B. Looking the sacc/fits file\n",
    "Since TJPCov uses ccl for integrate its power spectra, the n(z) are passed through sacc files."
   ]
  },
  {
   "cell_type": "code",
   "execution_count": null,
   "id": "a12024bd",
   "metadata": {},
   "outputs": [],
   "source": [
    "from astropy.io import fits\n",
    "\n",
    "ft = fits.open(f\"{homepath}/examples/old_api/des_y1_3x2pt/generic_cl_des_y1_3x2pt_sacc_data.fits\")"
   ]
  },
  {
   "cell_type": "code",
   "execution_count": null,
   "id": "d082beb0",
   "metadata": {},
   "outputs": [],
   "source": [
    "f, ax = plt.subplots(2,1, figsize=(7,4), sharex=True)\n",
    "\n",
    "for trc in [f\"tracer:NZ:lens{i}\" for i in range(5)]:\n",
    "    ax[0].plot(ft[trc].data['z'], ft[trc].data['nz'], label=trc)\n",
    "    \n",
    "for trc in [f\"tracer:NZ:src{i}\" for i in range(4)]:\n",
    "    ax[1].plot(ft[trc].data['z'], ft[trc].data['nz'], label=trc)\n",
    "    \n",
    "ax[0].legend(loc='best')\n",
    "ax[1].legend(loc='best')\n",
    "[axi.set_xlim(0,2.3) for axi in ax]"
   ]
  },
  {
   "cell_type": "code",
   "execution_count": null,
   "id": "97336f44",
   "metadata": {},
   "outputs": [],
   "source": []
  }
 ],
 "metadata": {
  "kernelspec": {
   "display_name": "Python 3 (ipykernel)",
   "language": "python",
   "name": "python3"
  },
  "language_info": {
   "codemirror_mode": {
    "name": "ipython",
    "version": 3
   },
   "file_extension": ".py",
   "mimetype": "text/x-python",
   "name": "python",
   "nbconvert_exporter": "python",
   "pygments_lexer": "ipython3",
   "version": "3.8.8"
  }
 },
 "nbformat": 4,
 "nbformat_minor": 5
}
